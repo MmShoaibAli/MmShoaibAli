{
 "cells": [
  {
   "cell_type": "code",
   "execution_count": 1,
   "metadata": {},
   "outputs": [
    {
     "name": "stdout",
     "output_type": "stream",
     "text": [
      "Twinkle, twinkle, little star,\n",
      "         How I wonder what you are!\n",
      "                Up above the world so high\n",
      "                Like a diamond in the sky\n",
      "Twinkle, twinkle, little star\n",
      "         How I wonder what you are\n",
      "Python Version\n",
      "3.7.4 (default, Aug  9 2019, 18:34:13) [MSC v.1915 64 bit (AMD64)]\n",
      "Current date & Time = 2022-01-01 14:11:41.803184\n"
     ]
    }
   ],
   "source": [
    "#Assignment Jawan Pakistan \n",
    "#Q1 Answer \n",
    "print(\"Twinkle, twinkle, little star,\");\n",
    "print(\"         How I wonder what you are!\");\n",
    "print(\"                Up above the world so high\");\n",
    "print(\"                Like a diamond in the sky\");\n",
    "print(\"Twinkle, twinkle, little star\");\n",
    "print(\"         How I wonder what you are\");\n",
    "#Q2 Answer \n",
    "import sys\n",
    "print(\"Python Version\");\n",
    "print(sys.version);\n",
    "#Q3 Answer \n",
    "from datetime import datetime\n",
    "now = datetime.now()\n",
    "print(\"Current date & Time =\", now)"
   ]
  },
  {
   "cell_type": "code",
   "execution_count": 2,
   "metadata": {},
   "outputs": [
    {
     "name": "stdout",
     "output_type": "stream",
     "text": [
      "Enter the Radius: 5\n",
      "Area =78.53981633974483\n"
     ]
    }
   ],
   "source": [
    "#Q4 Answer\n",
    "from math import pi\n",
    "radius=float(input(\"Enter the Radius: \"));\n",
    "print(\"Area =\" +str(pi*radius**2));"
   ]
  },
  {
   "cell_type": "code",
   "execution_count": 3,
   "metadata": {},
   "outputs": [
    {
     "name": "stdout",
     "output_type": "stream",
     "text": [
      "Enter your First Name: shoaib\n",
      "Enter your Last Name: ali\n",
      "ali shoaib\n",
      "Enter 1st number to add: 5\n",
      "Enter 2nd number to add: 6\n",
      "Addition of Two numbers= 11\n"
     ]
    }
   ],
   "source": [
    "#Q5 Answer\n",
    "First_Name=str(input(\"Enter your First Name: \"));\n",
    "Last_Name=str(input(\"Enter your Last Name: \"));\n",
    "print(Last_Name+\" \"+First_Name);\n",
    "#Q6 Answer\n",
    "Num_1=int(input(\"Enter 1st number to add: \"));\n",
    "Num_2=int(input(\"Enter 2nd number to add: \"));\n",
    "sum=Num_1+Num_2;\n",
    "print(\"Addition of Two numbers= \"+str(sum));"
   ]
  },
  {
   "cell_type": "code",
   "execution_count": null,
   "metadata": {},
   "outputs": [],
   "source": []
  }
 ],
 "metadata": {
  "kernelspec": {
   "display_name": "Python 3",
   "language": "python",
   "name": "python3"
  },
  "language_info": {
   "codemirror_mode": {
    "name": "ipython",
    "version": 3
   },
   "file_extension": ".py",
   "mimetype": "text/x-python",
   "name": "python",
   "nbconvert_exporter": "python",
   "pygments_lexer": "ipython3",
   "version": "3.7.4"
  }
 },
 "nbformat": 4,
 "nbformat_minor": 2
}
